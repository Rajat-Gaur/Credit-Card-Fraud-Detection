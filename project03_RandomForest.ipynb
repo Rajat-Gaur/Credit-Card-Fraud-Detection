{
 "cells": [
  {
   "cell_type": "code",
   "execution_count": 11,
   "metadata": {
    "colab": {
     "base_uri": "https://localhost:8080/",
     "height": 51
    },
    "colab_type": "code",
    "id": "feJITWZqvjPM",
    "outputId": "ea32675c-5342-4ccf-ac6c-cc40dcf035ec"
   },
   "outputs": [],
   "source": [
    "import pandas as pd\n",
    "import numpy as np\n",
    "from scipy import stats\n",
    "import matplotlib.pyplot as plt\n",
    "import seaborn as sns\n",
    "from datetime import datetime\n",
    "from datetime import timedelta\n",
    "from math import log10\n",
    "import re\n",
    "%matplotlib inline\n",
    "start_time = pd.datetime.now()"
   ]
  },
  {
   "cell_type": "code",
   "execution_count": 12,
   "metadata": {
    "colab": {},
    "colab_type": "code",
    "id": "RF3nLsbiScjL"
   },
   "outputs": [],
   "source": [
    "df = pd.read_csv('final30var_Amy.csv')"
   ]
  },
  {
   "cell_type": "code",
   "execution_count": 13,
   "metadata": {
    "colab": {
     "base_uri": "https://localhost:8080/",
     "height": 34
    },
    "colab_type": "code",
    "id": "hLzAZu3I0XXO",
    "outputId": "0320d7b5-04ca-4fdd-bac5-68c2a016d878"
   },
   "outputs": [
    {
     "data": {
      "text/plain": [
       "(96397, 33)"
      ]
     },
     "execution_count": 13,
     "metadata": {},
     "output_type": "execute_result"
    }
   ],
   "source": [
    "df.shape"
   ]
  },
  {
   "cell_type": "code",
   "execution_count": 14,
   "metadata": {
    "colab": {
     "base_uri": "https://localhost:8080/",
     "height": 309
    },
    "colab_type": "code",
    "id": "dPGpzEXlzPo_",
    "outputId": "ad09c44b-c4f6-4487-c294-761b79dd0bbb"
   },
   "outputs": [
    {
     "data": {
      "text/html": [
       "<div>\n",
       "<style scoped>\n",
       "    .dataframe tbody tr th:only-of-type {\n",
       "        vertical-align: middle;\n",
       "    }\n",
       "\n",
       "    .dataframe tbody tr th {\n",
       "        vertical-align: top;\n",
       "    }\n",
       "\n",
       "    .dataframe thead th {\n",
       "        text-align: right;\n",
       "    }\n",
       "</style>\n",
       "<table border=\"1\" class=\"dataframe\">\n",
       "  <thead>\n",
       "    <tr style=\"text-align: right;\">\n",
       "      <th></th>\n",
       "      <th>Cardnum_max_30</th>\n",
       "      <th>Cardnum_mean_0</th>\n",
       "      <th>Cardnum_total_1</th>\n",
       "      <th>Cardnum_total_14</th>\n",
       "      <th>Cardnum_total_30</th>\n",
       "      <th>Merchnum_total_1</th>\n",
       "      <th>amount/amount1Cardnum30</th>\n",
       "      <th>card_merch_max_3</th>\n",
       "      <th>card_merch_max_7</th>\n",
       "      <th>card_merch_median_3</th>\n",
       "      <th>...</th>\n",
       "      <th>card_zip_median_3</th>\n",
       "      <th>card_zip_total_1</th>\n",
       "      <th>card_zip_total_14</th>\n",
       "      <th>card_zip_total_30</th>\n",
       "      <th>card_zip_total_7</th>\n",
       "      <th>Cardnum_max_0</th>\n",
       "      <th>card_merch_mean_3</th>\n",
       "      <th>Recnum</th>\n",
       "      <th>Date</th>\n",
       "      <th>Fraud</th>\n",
       "    </tr>\n",
       "  </thead>\n",
       "  <tbody>\n",
       "    <tr>\n",
       "      <td>0</td>\n",
       "      <td>-0.680420</td>\n",
       "      <td>-0.262690</td>\n",
       "      <td>-0.132609</td>\n",
       "      <td>-0.369571</td>\n",
       "      <td>-0.438583</td>\n",
       "      <td>-0.185258</td>\n",
       "      <td>-0.510944</td>\n",
       "      <td>-0.137732</td>\n",
       "      <td>-0.176881</td>\n",
       "      <td>-0.182334</td>\n",
       "      <td>...</td>\n",
       "      <td>-0.192510</td>\n",
       "      <td>-0.053167</td>\n",
       "      <td>-0.102434</td>\n",
       "      <td>-0.143212</td>\n",
       "      <td>-0.079100</td>\n",
       "      <td>-0.236240</td>\n",
       "      <td>-0.181973</td>\n",
       "      <td>1</td>\n",
       "      <td>2010-01-01</td>\n",
       "      <td>0</td>\n",
       "    </tr>\n",
       "    <tr>\n",
       "      <td>1</td>\n",
       "      <td>-0.680420</td>\n",
       "      <td>-0.262690</td>\n",
       "      <td>-0.132609</td>\n",
       "      <td>-0.369571</td>\n",
       "      <td>-0.438583</td>\n",
       "      <td>-0.185258</td>\n",
       "      <td>-0.510944</td>\n",
       "      <td>-0.137732</td>\n",
       "      <td>-0.176881</td>\n",
       "      <td>-0.182334</td>\n",
       "      <td>...</td>\n",
       "      <td>-0.192510</td>\n",
       "      <td>-0.053167</td>\n",
       "      <td>-0.102434</td>\n",
       "      <td>-0.143212</td>\n",
       "      <td>-0.079100</td>\n",
       "      <td>-0.236240</td>\n",
       "      <td>-0.181973</td>\n",
       "      <td>2</td>\n",
       "      <td>2010-01-01</td>\n",
       "      <td>0</td>\n",
       "    </tr>\n",
       "    <tr>\n",
       "      <td>2</td>\n",
       "      <td>-0.680420</td>\n",
       "      <td>-0.262690</td>\n",
       "      <td>-0.132609</td>\n",
       "      <td>-0.369571</td>\n",
       "      <td>-0.438583</td>\n",
       "      <td>-0.185258</td>\n",
       "      <td>-0.510944</td>\n",
       "      <td>-0.137732</td>\n",
       "      <td>-0.176881</td>\n",
       "      <td>-0.182334</td>\n",
       "      <td>...</td>\n",
       "      <td>-0.192510</td>\n",
       "      <td>-0.053167</td>\n",
       "      <td>-0.102434</td>\n",
       "      <td>-0.143212</td>\n",
       "      <td>-0.079100</td>\n",
       "      <td>-0.236240</td>\n",
       "      <td>-0.181973</td>\n",
       "      <td>3</td>\n",
       "      <td>2010-01-01</td>\n",
       "      <td>0</td>\n",
       "    </tr>\n",
       "    <tr>\n",
       "      <td>3</td>\n",
       "      <td>-0.680420</td>\n",
       "      <td>-0.262690</td>\n",
       "      <td>-0.132609</td>\n",
       "      <td>-0.369571</td>\n",
       "      <td>-0.438583</td>\n",
       "      <td>-0.184382</td>\n",
       "      <td>-0.510944</td>\n",
       "      <td>-0.137732</td>\n",
       "      <td>-0.176881</td>\n",
       "      <td>-0.182334</td>\n",
       "      <td>...</td>\n",
       "      <td>-0.192510</td>\n",
       "      <td>-0.053167</td>\n",
       "      <td>-0.102434</td>\n",
       "      <td>-0.143212</td>\n",
       "      <td>-0.079100</td>\n",
       "      <td>-0.236240</td>\n",
       "      <td>-0.181973</td>\n",
       "      <td>4</td>\n",
       "      <td>2010-01-01</td>\n",
       "      <td>0</td>\n",
       "    </tr>\n",
       "    <tr>\n",
       "      <td>4</td>\n",
       "      <td>-0.678667</td>\n",
       "      <td>-0.255398</td>\n",
       "      <td>-0.131937</td>\n",
       "      <td>-0.369174</td>\n",
       "      <td>-0.438330</td>\n",
       "      <td>-0.183506</td>\n",
       "      <td>4.194033</td>\n",
       "      <td>-0.132589</td>\n",
       "      <td>-0.172064</td>\n",
       "      <td>-0.172925</td>\n",
       "      <td>...</td>\n",
       "      <td>-0.182961</td>\n",
       "      <td>-0.052210</td>\n",
       "      <td>-0.101516</td>\n",
       "      <td>-0.142329</td>\n",
       "      <td>-0.078164</td>\n",
       "      <td>-0.231503</td>\n",
       "      <td>-0.172922</td>\n",
       "      <td>5</td>\n",
       "      <td>2010-01-01</td>\n",
       "      <td>0</td>\n",
       "    </tr>\n",
       "  </tbody>\n",
       "</table>\n",
       "<p>5 rows × 33 columns</p>\n",
       "</div>"
      ],
      "text/plain": [
       "   Cardnum_max_30  Cardnum_mean_0  Cardnum_total_1  Cardnum_total_14  \\\n",
       "0       -0.680420       -0.262690        -0.132609         -0.369571   \n",
       "1       -0.680420       -0.262690        -0.132609         -0.369571   \n",
       "2       -0.680420       -0.262690        -0.132609         -0.369571   \n",
       "3       -0.680420       -0.262690        -0.132609         -0.369571   \n",
       "4       -0.678667       -0.255398        -0.131937         -0.369174   \n",
       "\n",
       "   Cardnum_total_30  Merchnum_total_1  amount/amount1Cardnum30  \\\n",
       "0         -0.438583         -0.185258                -0.510944   \n",
       "1         -0.438583         -0.185258                -0.510944   \n",
       "2         -0.438583         -0.185258                -0.510944   \n",
       "3         -0.438583         -0.184382                -0.510944   \n",
       "4         -0.438330         -0.183506                 4.194033   \n",
       "\n",
       "   card_merch_max_3  card_merch_max_7  card_merch_median_3  ...  \\\n",
       "0         -0.137732         -0.176881            -0.182334  ...   \n",
       "1         -0.137732         -0.176881            -0.182334  ...   \n",
       "2         -0.137732         -0.176881            -0.182334  ...   \n",
       "3         -0.137732         -0.176881            -0.182334  ...   \n",
       "4         -0.132589         -0.172064            -0.172925  ...   \n",
       "\n",
       "   card_zip_median_3  card_zip_total_1  card_zip_total_14  card_zip_total_30  \\\n",
       "0          -0.192510         -0.053167          -0.102434          -0.143212   \n",
       "1          -0.192510         -0.053167          -0.102434          -0.143212   \n",
       "2          -0.192510         -0.053167          -0.102434          -0.143212   \n",
       "3          -0.192510         -0.053167          -0.102434          -0.143212   \n",
       "4          -0.182961         -0.052210          -0.101516          -0.142329   \n",
       "\n",
       "   card_zip_total_7  Cardnum_max_0  card_merch_mean_3  Recnum        Date  \\\n",
       "0         -0.079100      -0.236240          -0.181973       1  2010-01-01   \n",
       "1         -0.079100      -0.236240          -0.181973       2  2010-01-01   \n",
       "2         -0.079100      -0.236240          -0.181973       3  2010-01-01   \n",
       "3         -0.079100      -0.236240          -0.181973       4  2010-01-01   \n",
       "4         -0.078164      -0.231503          -0.172922       5  2010-01-01   \n",
       "\n",
       "   Fraud  \n",
       "0      0  \n",
       "1      0  \n",
       "2      0  \n",
       "3      0  \n",
       "4      0  \n",
       "\n",
       "[5 rows x 33 columns]"
      ]
     },
     "execution_count": 14,
     "metadata": {},
     "output_type": "execute_result"
    }
   ],
   "source": [
    "df.head()"
   ]
  },
  {
   "cell_type": "code",
   "execution_count": 15,
   "metadata": {
    "colab": {},
    "colab_type": "code",
    "id": "9paxm5XNSLqE"
   },
   "outputs": [],
   "source": [
    "df_model = df[(df.Date>'2010-01-14')&(df.Date<'2010-11-01')].copy()\n",
    "df_oot = df[df.Date>='2010-11-01'].copy()\n",
    "df_model.drop(columns=['Date','Recnum'], inplace=True)\n",
    "df_oot.drop(columns=['Date','Recnum'], inplace=True)\n",
    "X = df_model.loc[:,df_model.columns!='Fraud']\n",
    "y = df_model['Fraud']\n",
    "X_oot = df_oot.loc[:,df_model.columns!='Fraud']\n",
    "y_oot = df_oot['Fraud']"
   ]
  },
  {
   "cell_type": "code",
   "execution_count": 16,
   "metadata": {
    "colab": {},
    "colab_type": "code",
    "id": "esEQz79-UJaO"
   },
   "outputs": [],
   "source": [
    "# Function to calculate FDR\n",
    "def calculateFDR(predict, fraudscore, y, percent=0.03):\n",
    "    temp = pd.DataFrame({'true':y.tolist(), 'predict':predict, 'score':fraudscore})\n",
    "    temp.sort_values('score', ascending=False, inplace=True)\n",
    "    count = int(temp.shape[0]*percent)\n",
    "    return np.sum(temp.true[0:count])/np.sum(temp.true)"
   ]
  },
  {
   "cell_type": "markdown",
   "metadata": {
    "colab_type": "text",
    "id": "5gap5Et7FCjO"
   },
   "source": [
    "## Random Forest"
   ]
  },
  {
   "cell_type": "code",
   "execution_count": 17,
   "metadata": {
    "colab": {},
    "colab_type": "code",
    "id": "LL9NLBo-T8UP"
   },
   "outputs": [],
   "source": [
    "from sklearn.model_selection import train_test_split\n",
    "from sklearn.ensemble import RandomForestClassifier"
   ]
  },
  {
   "cell_type": "code",
   "execution_count": 18,
   "metadata": {
    "colab": {},
    "colab_type": "code",
    "id": "vdUZVyGjtssD"
   },
   "outputs": [],
   "source": [
    "def randomforestFDR(X, X_oot, y, y_oot, iteration=10, n_estimators=50, max_features=10, max_depth=20):\n",
    "    rf = RandomForestClassifier(n_estimators=n_estimators, max_features=max_features, max_depth=max_depth)\n",
    "    \n",
    "    fdr_df=[]\n",
    "    fdr_total=[0,0,0]\n",
    "    for i in range(iteration):\n",
    "        X_train, X_test, y_train, y_test = train_test_split(X, y) # using default setting for test_size(0.25), random_state(None) and shuffle(True)\n",
    "        rf.fit(X_train, y_train)\n",
    "        \n",
    "        data = [[X_train, y_train], [X_test, y_test], [X_oot, y_oot]]\n",
    "        fdr_list=[]\n",
    "        for d in range(len(data)):\n",
    "            predict = rf.predict(data[d][0])\n",
    "            prob = rf.predict_proba(data[d][0])\n",
    "            fraudscore = prob.transpose()[1]\n",
    "            fdr_each = calculateFDR(predict, fraudscore, data[d][1])\n",
    "            fdr_total[d] += fdr_each\n",
    "            fdr_list.append(fdr_each)\n",
    "        \n",
    "        fdr_df.append(fdr_list)\n",
    "    \n",
    "    avg_train = fdr_total[0] / iteration\n",
    "    avg_test = fdr_total[1] / iteration\n",
    "    avg_oot = fdr_total[2] / iteration\n",
    "    result = [avg_train, avg_test, avg_oot]\n",
    "\n",
    "    return fdr_df, result"
   ]
  },
  {
   "cell_type": "code",
   "execution_count": 19,
   "metadata": {
    "colab": {
     "base_uri": "https://localhost:8080/",
     "height": 34
    },
    "colab_type": "code",
    "id": "WPCAA-Oq38FW",
    "outputId": "cf5bdf81-49d5-4760-de13-07d0091de60b"
   },
   "outputs": [
    {
     "name": "stdout",
     "output_type": "stream",
     "text": [
      "n_estimators: 400, max_features: 20, max_depth: 50 with fdr: 0.8770039259282214 on the test data\n"
     ]
    }
   ],
   "source": [
    "# Adjusting hyperparameters\n",
    "tree = [400] # towarddatascience guide: 200~2000\n",
    "features = [10,15,20] # should be less than number of variables (original choice: [5,10,15,20])\n",
    "depth = [10,50] # towarddatascience guide: 10~110 (original choice: [10,20,50,100])\n",
    "\n",
    "maximum = 0\n",
    "params=[]\n",
    "fdr_all=[]\n",
    "fdr_mean=[]\n",
    "for i in tree:\n",
    "    for j in features:\n",
    "        for k in depth:\n",
    "            temp1, temp2 = randomforestFDR(X, X_oot, y, y_oot, iteration=10, n_estimators=i, max_features=j, max_depth=k) # optimizing on test data\n",
    "            params.append([i,j,k])\n",
    "            fdr_mean.append(temp2)\n",
    "            fdr_all.append(temp1)\n",
    "            if maximum < temp2[1]:\n",
    "                maximum=temp2[1]\n",
    "                maxfdr=temp2\n",
    "                maxparams=[i,j,k]\n",
    "                \n",
    "print(f'n_estimators: {maxparams[0]}, max_features: {maxparams[1]}, max_depth: {maxparams[2]} with fdr: {maximum} on the test data')"
   ]
  },
  {
   "cell_type": "code",
   "execution_count": 28,
   "metadata": {
    "colab": {},
    "colab_type": "code",
    "id": "1DQf8GEx4Cel"
   },
   "outputs": [],
   "source": [
    "output30 = pd.DataFrame({'params':params, 'fdr':fdr_mean})\n",
    "output30_alliter = pd.DataFrame(fdr_all[0],columns=[str(params[0])+': train', 'test', 'oot'])\n",
    "for i in range(1,len(fdr_all)):\n",
    "    output30_alliter = pd.concat([output30_alliter, pd.DataFrame(fdr_all[i],columns=[str(params[i])+': train', 'test', 'oot'])], axis=1)\n",
    "output30.to_csv('output30.csv')\n",
    "output30_alliter.to_csv('output30_alliter.csv')"
   ]
  },
  {
   "cell_type": "code",
   "execution_count": 21,
   "metadata": {
    "colab": {
     "base_uri": "https://localhost:8080/",
     "height": 979
    },
    "colab_type": "code",
    "id": "stboW1W4anRN",
    "outputId": "d58aa67b-3b61-4d54-9b9a-0cd233ddb044"
   },
   "outputs": [
    {
     "data": {
      "text/html": [
       "<div>\n",
       "<style scoped>\n",
       "    .dataframe tbody tr th:only-of-type {\n",
       "        vertical-align: middle;\n",
       "    }\n",
       "\n",
       "    .dataframe tbody tr th {\n",
       "        vertical-align: top;\n",
       "    }\n",
       "\n",
       "    .dataframe thead th {\n",
       "        text-align: right;\n",
       "    }\n",
       "</style>\n",
       "<table border=\"1\" class=\"dataframe\">\n",
       "  <thead>\n",
       "    <tr style=\"text-align: right;\">\n",
       "      <th></th>\n",
       "      <th>ranking</th>\n",
       "      <th>variable</th>\n",
       "    </tr>\n",
       "  </thead>\n",
       "  <tbody>\n",
       "    <tr>\n",
       "      <td>0</td>\n",
       "      <td>1</td>\n",
       "      <td>Cardnum_max_30</td>\n",
       "    </tr>\n",
       "    <tr>\n",
       "      <td>1</td>\n",
       "      <td>1</td>\n",
       "      <td>Cardnum_mean_0</td>\n",
       "    </tr>\n",
       "    <tr>\n",
       "      <td>2</td>\n",
       "      <td>1</td>\n",
       "      <td>Cardnum_total_1</td>\n",
       "    </tr>\n",
       "    <tr>\n",
       "      <td>3</td>\n",
       "      <td>1</td>\n",
       "      <td>Cardnum_total_14</td>\n",
       "    </tr>\n",
       "    <tr>\n",
       "      <td>4</td>\n",
       "      <td>1</td>\n",
       "      <td>Cardnum_total_30</td>\n",
       "    </tr>\n",
       "    <tr>\n",
       "      <td>5</td>\n",
       "      <td>1</td>\n",
       "      <td>Merchnum_total_1</td>\n",
       "    </tr>\n",
       "    <tr>\n",
       "      <td>6</td>\n",
       "      <td>1</td>\n",
       "      <td>amount/amount1Cardnum30</td>\n",
       "    </tr>\n",
       "    <tr>\n",
       "      <td>7</td>\n",
       "      <td>1</td>\n",
       "      <td>card_merch_max_3</td>\n",
       "    </tr>\n",
       "    <tr>\n",
       "      <td>8</td>\n",
       "      <td>1</td>\n",
       "      <td>card_merch_max_7</td>\n",
       "    </tr>\n",
       "    <tr>\n",
       "      <td>9</td>\n",
       "      <td>1</td>\n",
       "      <td>card_merch_median_3</td>\n",
       "    </tr>\n",
       "    <tr>\n",
       "      <td>10</td>\n",
       "      <td>1</td>\n",
       "      <td>card_merch_total_1</td>\n",
       "    </tr>\n",
       "    <tr>\n",
       "      <td>11</td>\n",
       "      <td>1</td>\n",
       "      <td>card_merch_total_7</td>\n",
       "    </tr>\n",
       "    <tr>\n",
       "      <td>12</td>\n",
       "      <td>1</td>\n",
       "      <td>card_state_max_1</td>\n",
       "    </tr>\n",
       "    <tr>\n",
       "      <td>13</td>\n",
       "      <td>1</td>\n",
       "      <td>card_state_max_14</td>\n",
       "    </tr>\n",
       "    <tr>\n",
       "      <td>14</td>\n",
       "      <td>1</td>\n",
       "      <td>card_state_max_30</td>\n",
       "    </tr>\n",
       "    <tr>\n",
       "      <td>15</td>\n",
       "      <td>1</td>\n",
       "      <td>card_state_mean_1</td>\n",
       "    </tr>\n",
       "    <tr>\n",
       "      <td>16</td>\n",
       "      <td>1</td>\n",
       "      <td>card_state_total_14</td>\n",
       "    </tr>\n",
       "    <tr>\n",
       "      <td>17</td>\n",
       "      <td>1</td>\n",
       "      <td>card_state_total_3</td>\n",
       "    </tr>\n",
       "    <tr>\n",
       "      <td>18</td>\n",
       "      <td>1</td>\n",
       "      <td>card_state_total_30</td>\n",
       "    </tr>\n",
       "    <tr>\n",
       "      <td>19</td>\n",
       "      <td>1</td>\n",
       "      <td>card_zip_max_1</td>\n",
       "    </tr>\n",
       "    <tr>\n",
       "      <td>20</td>\n",
       "      <td>1</td>\n",
       "      <td>card_zip_max_14</td>\n",
       "    </tr>\n",
       "    <tr>\n",
       "      <td>21</td>\n",
       "      <td>1</td>\n",
       "      <td>card_zip_mean_1</td>\n",
       "    </tr>\n",
       "    <tr>\n",
       "      <td>22</td>\n",
       "      <td>1</td>\n",
       "      <td>card_zip_mean_3</td>\n",
       "    </tr>\n",
       "    <tr>\n",
       "      <td>23</td>\n",
       "      <td>1</td>\n",
       "      <td>card_zip_median_3</td>\n",
       "    </tr>\n",
       "    <tr>\n",
       "      <td>24</td>\n",
       "      <td>1</td>\n",
       "      <td>card_zip_total_1</td>\n",
       "    </tr>\n",
       "    <tr>\n",
       "      <td>25</td>\n",
       "      <td>1</td>\n",
       "      <td>card_zip_total_14</td>\n",
       "    </tr>\n",
       "    <tr>\n",
       "      <td>26</td>\n",
       "      <td>1</td>\n",
       "      <td>card_zip_total_30</td>\n",
       "    </tr>\n",
       "    <tr>\n",
       "      <td>27</td>\n",
       "      <td>1</td>\n",
       "      <td>card_zip_total_7</td>\n",
       "    </tr>\n",
       "    <tr>\n",
       "      <td>28</td>\n",
       "      <td>2</td>\n",
       "      <td>Cardnum_max_0</td>\n",
       "    </tr>\n",
       "    <tr>\n",
       "      <td>29</td>\n",
       "      <td>3</td>\n",
       "      <td>card_merch_mean_3</td>\n",
       "    </tr>\n",
       "  </tbody>\n",
       "</table>\n",
       "</div>"
      ],
      "text/plain": [
       "    ranking                 variable\n",
       "0         1           Cardnum_max_30\n",
       "1         1           Cardnum_mean_0\n",
       "2         1          Cardnum_total_1\n",
       "3         1         Cardnum_total_14\n",
       "4         1         Cardnum_total_30\n",
       "5         1         Merchnum_total_1\n",
       "6         1  amount/amount1Cardnum30\n",
       "7         1         card_merch_max_3\n",
       "8         1         card_merch_max_7\n",
       "9         1      card_merch_median_3\n",
       "10        1       card_merch_total_1\n",
       "11        1       card_merch_total_7\n",
       "12        1         card_state_max_1\n",
       "13        1        card_state_max_14\n",
       "14        1        card_state_max_30\n",
       "15        1        card_state_mean_1\n",
       "16        1      card_state_total_14\n",
       "17        1       card_state_total_3\n",
       "18        1      card_state_total_30\n",
       "19        1           card_zip_max_1\n",
       "20        1          card_zip_max_14\n",
       "21        1          card_zip_mean_1\n",
       "22        1          card_zip_mean_3\n",
       "23        1        card_zip_median_3\n",
       "24        1         card_zip_total_1\n",
       "25        1        card_zip_total_14\n",
       "26        1        card_zip_total_30\n",
       "27        1         card_zip_total_7\n",
       "28        2            Cardnum_max_0\n",
       "29        3        card_merch_mean_3"
      ]
     },
     "execution_count": 21,
     "metadata": {},
     "output_type": "execute_result"
    }
   ],
   "source": [
    "var_ranking = pd.read_csv('var_ranking_Amy.csv')\n",
    "var_ranking.head(30)"
   ]
  },
  {
   "cell_type": "code",
   "execution_count": 22,
   "metadata": {
    "colab": {},
    "colab_type": "code",
    "id": "NAIHE1J4byI9"
   },
   "outputs": [],
   "source": [
    "# change number of variables to 27\n",
    "var27 = var_ranking.head(27)['variable'].tolist() + ['Fraud']\n",
    "df_model = df[(df.Date>'2010-01-14')&(df.Date<'2010-11-01')][var27].copy()\n",
    "df_oot = df[df.Date>='2010-11-01'][var27].copy()\n",
    "X = df_model.loc[:,df_model.columns!='Fraud']\n",
    "y = df_model['Fraud']\n",
    "X_oot = df_oot.loc[:,df_model.columns!='Fraud']\n",
    "y_oot = df_oot['Fraud']"
   ]
  },
  {
   "cell_type": "code",
   "execution_count": 23,
   "metadata": {
    "colab": {
     "base_uri": "https://localhost:8080/",
     "height": 34
    },
    "colab_type": "code",
    "id": "8dHUJRCWanLM",
    "outputId": "4c799eaf-dc9b-4b26-8b53-9117b292d4ed"
   },
   "outputs": [
    {
     "name": "stdout",
     "output_type": "stream",
     "text": [
      "n_estimators: 400, max_features: 10, max_depth: 50 with fdr: 0.860380125856787 on the test data\n"
     ]
    }
   ],
   "source": [
    "# Adjusting hyperparameters\n",
    "tree = [400] # towarddatascience guide: 200~2000\n",
    "features = [10,15,20] # should be less than number of variables (original choice: [5,10,15,20])\n",
    "depth = [10,50] # towarddatascience guide: 10~110 (original choice: [10,20,50,100])\n",
    "\n",
    "maximum = 0\n",
    "params=[]\n",
    "fdr_all=[]\n",
    "fdr_mean=[]\n",
    "for i in tree:\n",
    "    for j in features:\n",
    "        for k in depth:\n",
    "            temp1, temp2 = randomforestFDR(X, X_oot, y, y_oot, iteration=10, n_estimators=i, max_features=j, max_depth=k) # optimizing on test data\n",
    "            params.append([i,j,k])\n",
    "            fdr_mean.append(temp2)\n",
    "            fdr_all.append(temp1)\n",
    "            if maximum < temp2[1]:\n",
    "                maximum=temp2[1]\n",
    "                maxfdr=temp2\n",
    "                maxparams=[i,j,k]\n",
    "                \n",
    "print(f'n_estimators: {maxparams[0]}, max_features: {maxparams[1]}, max_depth: {maxparams[2]} with fdr: {maximum} on the test data')"
   ]
  },
  {
   "cell_type": "code",
   "execution_count": 24,
   "metadata": {
    "colab": {},
    "colab_type": "code",
    "id": "qLaeC1vTanDr"
   },
   "outputs": [],
   "source": [
    "output27 = pd.DataFrame({'params':params, 'fdr':fdr_mean})\n",
    "output27_alliter = pd.DataFrame(fdr_all[0],columns=[str(params[0])+': train', 'test', 'oot'])\n",
    "for i in range(1,len(fdr_all)):\n",
    "    output27_alliter = pd.concat([output27_alliter, pd.DataFrame(fdr_all[i],columns=[str(params[i])+': train', 'test', 'oot'])], axis=1)\n",
    "output27.to_csv('output27.csv')\n",
    "output27_alliter.to_csv('output27_alliter.csv')"
   ]
  },
  {
   "cell_type": "code",
   "execution_count": 27,
   "metadata": {},
   "outputs": [
    {
     "data": {
      "text/plain": [
       "[[0.8568243952394253, 0.8265377470985582, 0.5681564245810055],\n",
       " [0.9949284449155729, 0.860380125856787, 0.5642458100558658],\n",
       " [0.8476963408674489, 0.8115422224363791, 0.553072625698324],\n",
       " [0.9963124669145677, 0.8550837336882331, 0.5418994413407822],\n",
       " [0.8405847438742657, 0.8128461884799887, 0.5452513966480448],\n",
       " [0.9964621509249463, 0.8500510988847398, 0.5234636871508381]]"
      ]
     },
     "execution_count": 27,
     "metadata": {},
     "output_type": "execute_result"
    }
   ],
   "source": [
    "fdr_mean"
   ]
  },
  {
   "cell_type": "code",
   "execution_count": 29,
   "metadata": {
    "colab": {
     "base_uri": "https://localhost:8080/",
     "height": 68
    },
    "colab_type": "code",
    "id": "uVtqayquFCgN",
    "outputId": "07cd9b69-f725-44e8-fbab-a4d423f4b061"
   },
   "outputs": [
    {
     "name": "stdout",
     "output_type": "stream",
     "text": [
      "0:04:33.075687\n"
     ]
    },
    {
     "name": "stderr",
     "output_type": "stream",
     "text": [
      "/usr/local/lib/python3.6/dist-packages/ipykernel_launcher.py:1: FutureWarning: The pandas.datetime class is deprecated and will be removed from pandas in a future version. Import from datetime instead.\n",
      "  \"\"\"Entry point for launching an IPython kernel.\n"
     ]
    }
   ],
   "source": [
    "end_time = pd.datetime.now()\n",
    "print(end_time - start_time)"
   ]
  },
  {
   "cell_type": "code",
   "execution_count": 0,
   "metadata": {
    "colab": {},
    "colab_type": "code",
    "id": "qDZ3dcdF9q77"
   },
   "outputs": [],
   "source": []
  }
 ],
 "metadata": {
  "accelerator": "TPU",
  "colab": {
   "collapsed_sections": [],
   "machine_shape": "hm",
   "name": "project03_RandomForest.ipynb",
   "provenance": []
  },
  "kernelspec": {
   "display_name": "Python 3",
   "language": "python",
   "name": "python3"
  },
  "language_info": {
   "codemirror_mode": {
    "name": "ipython",
    "version": 3
   },
   "file_extension": ".py",
   "mimetype": "text/x-python",
   "name": "python",
   "nbconvert_exporter": "python",
   "pygments_lexer": "ipython3",
   "version": "3.7.4"
  }
 },
 "nbformat": 4,
 "nbformat_minor": 1
}
